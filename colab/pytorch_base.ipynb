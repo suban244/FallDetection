{
  "nbformat": 4,
  "nbformat_minor": 0,
  "metadata": {
    "colab": {
      "provenance": []
    },
    "kernelspec": {
      "name": "python3",
      "display_name": "Python 3"
    },
    "language_info": {
      "name": "python"
    }
  },
  "cells": [
    {
      "cell_type": "code",
      "execution_count": 2,
      "metadata": {
        "id": "Np_mx_aj92YV",
        "colab": {
          "base_uri": "https://localhost:8080/",
          "height": 206
        },
        "outputId": "8d949160-eace-4ae4-9812-d174a61ddbd9"
      },
      "outputs": [
        {
          "output_type": "execute_result",
          "data": {
            "text/plain": [
              "      ax     ay     az     gx     gy    gz\n",
              "0 -76.94  -0.24 -55.07    868 -11876  7884\n",
              "1 -21.74 -53.05 -23.84 -12730  -7288  7902\n",
              "2 -21.46 -52.71 -24.14 -11992  -7628  8076\n",
              "3 -21.11 -52.31 -24.50 -11186  -7884  7990\n",
              "4 -20.17 -51.15 -25.53  -9962  -8348  7280"
            ],
            "text/html": [
              "\n",
              "  <div id=\"df-0b760c98-c232-4fc2-ad60-9024779df490\">\n",
              "    <div class=\"colab-df-container\">\n",
              "      <div>\n",
              "<style scoped>\n",
              "    .dataframe tbody tr th:only-of-type {\n",
              "        vertical-align: middle;\n",
              "    }\n",
              "\n",
              "    .dataframe tbody tr th {\n",
              "        vertical-align: top;\n",
              "    }\n",
              "\n",
              "    .dataframe thead th {\n",
              "        text-align: right;\n",
              "    }\n",
              "</style>\n",
              "<table border=\"1\" class=\"dataframe\">\n",
              "  <thead>\n",
              "    <tr style=\"text-align: right;\">\n",
              "      <th></th>\n",
              "      <th>ax</th>\n",
              "      <th>ay</th>\n",
              "      <th>az</th>\n",
              "      <th>gx</th>\n",
              "      <th>gy</th>\n",
              "      <th>gz</th>\n",
              "    </tr>\n",
              "  </thead>\n",
              "  <tbody>\n",
              "    <tr>\n",
              "      <th>0</th>\n",
              "      <td>-76.94</td>\n",
              "      <td>-0.24</td>\n",
              "      <td>-55.07</td>\n",
              "      <td>868</td>\n",
              "      <td>-11876</td>\n",
              "      <td>7884</td>\n",
              "    </tr>\n",
              "    <tr>\n",
              "      <th>1</th>\n",
              "      <td>-21.74</td>\n",
              "      <td>-53.05</td>\n",
              "      <td>-23.84</td>\n",
              "      <td>-12730</td>\n",
              "      <td>-7288</td>\n",
              "      <td>7902</td>\n",
              "    </tr>\n",
              "    <tr>\n",
              "      <th>2</th>\n",
              "      <td>-21.46</td>\n",
              "      <td>-52.71</td>\n",
              "      <td>-24.14</td>\n",
              "      <td>-11992</td>\n",
              "      <td>-7628</td>\n",
              "      <td>8076</td>\n",
              "    </tr>\n",
              "    <tr>\n",
              "      <th>3</th>\n",
              "      <td>-21.11</td>\n",
              "      <td>-52.31</td>\n",
              "      <td>-24.50</td>\n",
              "      <td>-11186</td>\n",
              "      <td>-7884</td>\n",
              "      <td>7990</td>\n",
              "    </tr>\n",
              "    <tr>\n",
              "      <th>4</th>\n",
              "      <td>-20.17</td>\n",
              "      <td>-51.15</td>\n",
              "      <td>-25.53</td>\n",
              "      <td>-9962</td>\n",
              "      <td>-8348</td>\n",
              "      <td>7280</td>\n",
              "    </tr>\n",
              "  </tbody>\n",
              "</table>\n",
              "</div>\n",
              "      <button class=\"colab-df-convert\" onclick=\"convertToInteractive('df-0b760c98-c232-4fc2-ad60-9024779df490')\"\n",
              "              title=\"Convert this dataframe to an interactive table.\"\n",
              "              style=\"display:none;\">\n",
              "        \n",
              "  <svg xmlns=\"http://www.w3.org/2000/svg\" height=\"24px\"viewBox=\"0 0 24 24\"\n",
              "       width=\"24px\">\n",
              "    <path d=\"M0 0h24v24H0V0z\" fill=\"none\"/>\n",
              "    <path d=\"M18.56 5.44l.94 2.06.94-2.06 2.06-.94-2.06-.94-.94-2.06-.94 2.06-2.06.94zm-11 1L8.5 8.5l.94-2.06 2.06-.94-2.06-.94L8.5 2.5l-.94 2.06-2.06.94zm10 10l.94 2.06.94-2.06 2.06-.94-2.06-.94-.94-2.06-.94 2.06-2.06.94z\"/><path d=\"M17.41 7.96l-1.37-1.37c-.4-.4-.92-.59-1.43-.59-.52 0-1.04.2-1.43.59L10.3 9.45l-7.72 7.72c-.78.78-.78 2.05 0 2.83L4 21.41c.39.39.9.59 1.41.59.51 0 1.02-.2 1.41-.59l7.78-7.78 2.81-2.81c.8-.78.8-2.07 0-2.86zM5.41 20L4 18.59l7.72-7.72 1.47 1.35L5.41 20z\"/>\n",
              "  </svg>\n",
              "      </button>\n",
              "      \n",
              "  <style>\n",
              "    .colab-df-container {\n",
              "      display:flex;\n",
              "      flex-wrap:wrap;\n",
              "      gap: 12px;\n",
              "    }\n",
              "\n",
              "    .colab-df-convert {\n",
              "      background-color: #E8F0FE;\n",
              "      border: none;\n",
              "      border-radius: 50%;\n",
              "      cursor: pointer;\n",
              "      display: none;\n",
              "      fill: #1967D2;\n",
              "      height: 32px;\n",
              "      padding: 0 0 0 0;\n",
              "      width: 32px;\n",
              "    }\n",
              "\n",
              "    .colab-df-convert:hover {\n",
              "      background-color: #E2EBFA;\n",
              "      box-shadow: 0px 1px 2px rgba(60, 64, 67, 0.3), 0px 1px 3px 1px rgba(60, 64, 67, 0.15);\n",
              "      fill: #174EA6;\n",
              "    }\n",
              "\n",
              "    [theme=dark] .colab-df-convert {\n",
              "      background-color: #3B4455;\n",
              "      fill: #D2E3FC;\n",
              "    }\n",
              "\n",
              "    [theme=dark] .colab-df-convert:hover {\n",
              "      background-color: #434B5C;\n",
              "      box-shadow: 0px 1px 3px 1px rgba(0, 0, 0, 0.15);\n",
              "      filter: drop-shadow(0px 1px 2px rgba(0, 0, 0, 0.3));\n",
              "      fill: #FFFFFF;\n",
              "    }\n",
              "  </style>\n",
              "\n",
              "      <script>\n",
              "        const buttonEl =\n",
              "          document.querySelector('#df-0b760c98-c232-4fc2-ad60-9024779df490 button.colab-df-convert');\n",
              "        buttonEl.style.display =\n",
              "          google.colab.kernel.accessAllowed ? 'block' : 'none';\n",
              "\n",
              "        async function convertToInteractive(key) {\n",
              "          const element = document.querySelector('#df-0b760c98-c232-4fc2-ad60-9024779df490');\n",
              "          const dataTable =\n",
              "            await google.colab.kernel.invokeFunction('convertToInteractive',\n",
              "                                                     [key], {});\n",
              "          if (!dataTable) return;\n",
              "\n",
              "          const docLinkHtml = 'Like what you see? Visit the ' +\n",
              "            '<a target=\"_blank\" href=https://colab.research.google.com/notebooks/data_table.ipynb>data table notebook</a>'\n",
              "            + ' to learn more about interactive tables.';\n",
              "          element.innerHTML = '';\n",
              "          dataTable['output_type'] = 'display_data';\n",
              "          await google.colab.output.renderOutput(dataTable, element);\n",
              "          const docLink = document.createElement('div');\n",
              "          docLink.innerHTML = docLinkHtml;\n",
              "          element.appendChild(docLink);\n",
              "        }\n",
              "      </script>\n",
              "    </div>\n",
              "  </div>\n",
              "  "
            ]
          },
          "metadata": {},
          "execution_count": 2
        }
      ],
      "source": [
        "import pandas as pd\n",
        "\n",
        "df = pd.read_csv(\"/content/drive/MyDrive/dataset/Anju/fall/data0.csv\").drop('timestamp', axis=1)\n",
        "\n",
        "df.head()"
      ]
    },
    {
      "cell_type": "markdown",
      "source": [],
      "metadata": {
        "id": "4K71bYEsrLY_"
      }
    },
    {
      "cell_type": "code",
      "source": [
        "for col in df.columns:\n",
        "  print(col,min(df[col]), max(df[col]))"
      ],
      "metadata": {
        "colab": {
          "base_uri": "https://localhost:8080/"
        },
        "id": "-HGSR5g5-sJP",
        "outputId": "f8021676-0bc0-44ae-8c9f-a633d1630ddc"
      },
      "execution_count": 3,
      "outputs": [
        {
          "output_type": "stream",
          "name": "stdout",
          "text": [
            "ax -168.99 179.39\n",
            "ay -53.05 82.23\n",
            "az -76.49 -3.88\n",
            "gx -25064 32767\n",
            "gy -11876 5016\n",
            "gz -10162 24132\n"
          ]
        }
      ]
    },
    {
      "cell_type": "code",
      "source": [
        "import os\n",
        "import random\n",
        "root = \"/content/drive/MyDrive/dataset\"\n",
        "gen = os.walk(root)\n",
        "list_of_folders = next(gen)[1]\n",
        "list_of_folders.sort()\n",
        "\n",
        "train = []\n",
        "valid = []\n",
        "\n",
        "for folder in list_of_folders:\n",
        "  r1 = os.path.join(root, folder)\n",
        "  g = os.walk(r1)\n",
        "  \n",
        "  for subfolder in next(g)[1]:\n",
        "    r2 = (os.path.join(r1, subfolder))\n",
        "\n",
        "    files = [f for f in os.listdir(r2) if os.path.isfile(os.path.join(r2, f))]\n",
        "\n",
        "    for file_name in files:\n",
        "      if random.uniform(0, 1) < 0.8:\n",
        "        train.append([os.path.join(r2, file_name), 1 if subfolder == \"fall\" else 0])\n",
        "      else:\n",
        "        valid.append([os.path.join(r2, file_name), 1 if subfolder == \"fall\" else 0])\n",
        "\n",
        "# 80 - 20 split to traning & validation data"
      ],
      "metadata": {
        "id": "vcuBjcK-AWsp"
      },
      "execution_count": 4,
      "outputs": []
    },
    {
      "cell_type": "code",
      "source": [
        "import pandas as pd\n",
        "\n",
        "train_df = pd.DataFrame(train, columns=['path', 'fall'])\n",
        "valid_df = pd.DataFrame(valid, columns=['path', 'fall'])"
      ],
      "metadata": {
        "id": "a52VDKRVAzFb"
      },
      "execution_count": 5,
      "outputs": []
    },
    {
      "cell_type": "code",
      "source": [
        "train_df.fall.value_counts()"
      ],
      "metadata": {
        "colab": {
          "base_uri": "https://localhost:8080/"
        },
        "id": "g1hZmku4A3vu",
        "outputId": "c7739765-b885-46c8-c2a5-bc6c13c95432"
      },
      "execution_count": 6,
      "outputs": [
        {
          "output_type": "execute_result",
          "data": {
            "text/plain": [
              "1    47\n",
              "0    45\n",
              "Name: fall, dtype: int64"
            ]
          },
          "metadata": {},
          "execution_count": 6
        }
      ]
    },
    {
      "cell_type": "code",
      "source": [
        "shapes = []\n",
        "import torch\n",
        "\n",
        "for i in range(len(train_df)):\n",
        "  csv_path = train_df.iloc[i, 0]\n",
        "  mat = pd.read_csv(csv_path)\n",
        "  mat = [list(mat[x]) for x in ['ax', 'ay', 'az', 'gx', 'gy', 'gz']]\n",
        "  mat = torch.tensor(mat)\n",
        "  if mat.shape[1] < 10:\n",
        "    print(csv_path)\n",
        "  shapes.append(mat.shape[1])\n",
        "\n",
        "print(shapes)\n",
        "mat_min = min(shapes)"
      ],
      "metadata": {
        "colab": {
          "base_uri": "https://localhost:8080/"
        },
        "id": "o0iJr0v6Cqmw",
        "outputId": "a8b0e4ae-92fe-4569-c891-2a26d1de3fcf"
      },
      "execution_count": 7,
      "outputs": [
        {
          "output_type": "stream",
          "name": "stdout",
          "text": [
            "[126, 120, 121, 120, 124, 121, 120, 123, 119, 122, 108, 127, 131, 128, 129, 127, 132, 138, 139, 144, 136, 140, 137, 136, 134, 134, 136, 135, 128, 130, 141, 136, 138, 132, 143, 92, 137, 137, 141, 142, 138, 137, 135, 139, 142, 121, 121, 123, 94, 120, 122, 119, 128, 126, 128, 128, 133, 131, 88, 130, 132, 133, 135, 134, 137, 134, 121, 129, 133, 132, 134, 134, 135, 132, 135, 133, 136, 127, 127, 128, 130, 129, 129, 131, 132, 128, 137, 138, 134, 137, 138, 136]\n"
          ]
        }
      ]
    },
    {
      "cell_type": "code",
      "source": [
        "import os\n",
        "import torch\n",
        "import pandas as pd\n",
        "from torch.utils.data import Dataset, IterableDataset\n",
        "\n",
        "def mat_to_tensor(mat_path):\n",
        "  mat = pd.read_csv(mat_path)\n",
        "  mat = mat.dropna()\n",
        "  # print(mat.info())\n",
        "  mat = [list(mat[x]) for x in ['ax', 'ay', 'az', 'gx', 'gy', 'gz']]\n",
        "  mat = torch.tensor(mat)\n",
        "  return mat\n",
        "\n",
        "class IMUSet(Dataset):\n",
        "    def __init__(self, data_df):\n",
        "        self.data_df = data_df # data_df == train_df / valid_df\n",
        "\n",
        "    def __len__(self):\n",
        "        return len(self.data_df)\n",
        "\n",
        "    def __getitem__(self, idx):\n",
        "        mat_path = self.data_df.iloc[idx, 0]\n",
        "        # print(mat_path)\n",
        "        t = mat_to_tensor(mat_path)\n",
        "        label = self.data_df.iloc[idx, 1]\n",
        "        return t, label"
      ],
      "metadata": {
        "id": "ihXj0GXTGlFz"
      },
      "execution_count": 8,
      "outputs": []
    },
    {
      "cell_type": "code",
      "source": [
        "from torch.utils.data import DataLoader\n",
        "\n",
        "imuset = IMUSet(train_df) # make dataset\n",
        "\n",
        "train_dataloader = DataLoader(imuset, shuffle=True) # load data multiple "
      ],
      "metadata": {
        "id": "FBm_ITUrIGMg"
      },
      "execution_count": 9,
      "outputs": []
    },
    {
      "cell_type": "code",
      "source": [
        "valid_dataset = IMUSet(valid_df)\n",
        "valid_dataloader = DataLoader(valid_dataset, shuffle=True)\n",
        "\n",
        "valid_features, valid_labels = next(iter(valid_dataloader))\n",
        "\n",
        "valid_features.shape, valid_labels.shape"
      ],
      "metadata": {
        "id": "X6Zj6s7sti3e",
        "colab": {
          "base_uri": "https://localhost:8080/"
        },
        "outputId": "e8f32dac-7543-44f9-c9e0-17e8f355a49b"
      },
      "execution_count": 10,
      "outputs": [
        {
          "output_type": "execute_result",
          "data": {
            "text/plain": [
              "(torch.Size([1, 6, 134]), torch.Size([1]))"
            ]
          },
          "metadata": {},
          "execution_count": 10
        }
      ]
    },
    {
      "cell_type": "markdown",
      "source": [
        "# **LSTM**"
      ],
      "metadata": {
        "id": "TsJTN6-dJqkR"
      }
    },
    {
      "cell_type": "code",
      "source": [
        "from torch import nn\n",
        "import torch.nn.functional as F\n",
        "\n",
        "class FallDetector(nn.Module):\n",
        "    def __init__(self):\n",
        "        super(FallDetector, self).__init__()\n",
        "        self.lstm = nn.LSTM(6, 10, num_layers=1)\n",
        "        self.hidden2tag = nn.Linear(10, 1)\n",
        "\n",
        "    def forward(self, seq):\n",
        "        output, (h_n, c_n) = self.lstm(seq.view(len(seq), 1, -1))\n",
        "        tag_space = self.hidden2tag(c_n.view(1, -1))\n",
        "        # print(tag_space.data)\n",
        "        tag_scores = torch.sigmoid(tag_space)\n",
        "        return tag_scores.view(-1)"
      ],
      "metadata": {
        "id": "JXHBd8IaJaUb"
      },
      "execution_count": 11,
      "outputs": []
    },
    {
      "cell_type": "code",
      "source": [
        "model = FallDetector()"
      ],
      "metadata": {
        "id": "0U-D-JQwsMS-"
      },
      "execution_count": 12,
      "outputs": []
    },
    {
      "cell_type": "code",
      "source": [
        "import torch.optim as optim\n",
        "model = FallDetector()\n",
        "loss_function = nn.BCELoss()\n",
        "optimizer = optim.Adam(model.parameters()) # SGD & RMSprop & Adam : alternatives"
      ],
      "metadata": {
        "id": "J77iV6swsYUv"
      },
      "execution_count": 13,
      "outputs": []
    },
    {
      "cell_type": "code",
      "source": [
        "import numpy as np\n",
        "\n",
        "from sklearn.metrics import confusion_matrix, accuracy_score, recall_score\n",
        "\n",
        "# helper function, for calculating accuracy\n",
        "def get_statistics(y_true, y_pred):\n",
        "    y_pred = np.concatenate(tuple(y_pred)) > 0.5\n",
        "    y_true = np.concatenate(tuple([[t for t in y] for y in y_true])).reshape(y_pred.shape)\n",
        "    # print(\"Accuracy score: \", (y_true == y_pred).sum() / float(len(y_true)))\n",
        "    print(\"Accuracy: \", accuracy_score(y_true, y_pred))\n",
        "    print(\"Recall: \", recall_score(y_true, y_pred))\n",
        "    print(len(y_true + y_pred))\n",
        "    print(\"Confusion Matrix\")\n",
        "    print(confusion_matrix(y_true, y_pred))"
      ],
      "metadata": {
        "id": "Uf-_QiAKtNAu"
      },
      "execution_count": 14,
      "outputs": []
    },
    {
      "cell_type": "code",
      "source": [
        "\n",
        "for epoch in range(50): \n",
        "    labels = []\n",
        "    preds = []\n",
        "    loss = []\n",
        "\n",
        "    i = 0\n",
        "    for seq, label in train_dataloader:\n",
        "        model.zero_grad()\n",
        "\n",
        "        seq = seq.reshape((-1, 6))\n",
        "        tag_scores = model(seq.to(torch.float))\n",
        "        preds.append(tag_scores.data)\n",
        "        labels.append(label.to(torch.float).data)\n",
        "\n",
        "        loss = loss_function(tag_scores, label.to(torch.float))\n",
        "        loss.backward()\n",
        "        optimizer.step()\n",
        "\n",
        "\n",
        "        i += 1\n",
        "    print(\"Epoch Done\")\n",
        "    get_statistics(labels, preds)\n",
        "  "
      ],
      "metadata": {
        "colab": {
          "base_uri": "https://localhost:8080/"
        },
        "id": "Rp_RholjtZIJ",
        "outputId": "5a19f082-155e-4aab-b0c1-3407d8cbfc30"
      },
      "execution_count": 15,
      "outputs": [
        {
          "output_type": "stream",
          "name": "stdout",
          "text": [
            "Epoch Done\n",
            "Accuracy:  0.4782608695652174\n",
            "Recall:  0.10638297872340426\n",
            "92\n",
            "Confusion Matrix\n",
            "[[39  6]\n",
            " [42  5]]\n",
            "Epoch Done\n",
            "Accuracy:  0.6195652173913043\n",
            "Recall:  0.3829787234042553\n",
            "92\n",
            "Confusion Matrix\n",
            "[[39  6]\n",
            " [29 18]]\n",
            "Epoch Done\n",
            "Accuracy:  0.7282608695652174\n",
            "Recall:  0.6595744680851063\n",
            "92\n",
            "Confusion Matrix\n",
            "[[36  9]\n",
            " [16 31]]\n",
            "Epoch Done\n",
            "Accuracy:  0.6956521739130435\n",
            "Recall:  0.6382978723404256\n",
            "92\n",
            "Confusion Matrix\n",
            "[[34 11]\n",
            " [17 30]]\n",
            "Epoch Done\n",
            "Accuracy:  0.7608695652173914\n",
            "Recall:  0.6382978723404256\n",
            "92\n",
            "Confusion Matrix\n",
            "[[40  5]\n",
            " [17 30]]\n",
            "Epoch Done\n",
            "Accuracy:  0.75\n",
            "Recall:  0.5957446808510638\n",
            "92\n",
            "Confusion Matrix\n",
            "[[41  4]\n",
            " [19 28]]\n",
            "Epoch Done\n",
            "Accuracy:  0.7391304347826086\n",
            "Recall:  0.5957446808510638\n",
            "92\n",
            "Confusion Matrix\n",
            "[[40  5]\n",
            " [19 28]]\n",
            "Epoch Done\n",
            "Accuracy:  0.75\n",
            "Recall:  0.7021276595744681\n",
            "92\n",
            "Confusion Matrix\n",
            "[[36  9]\n",
            " [14 33]]\n",
            "Epoch Done\n",
            "Accuracy:  0.75\n",
            "Recall:  0.6808510638297872\n",
            "92\n",
            "Confusion Matrix\n",
            "[[37  8]\n",
            " [15 32]]\n",
            "Epoch Done\n",
            "Accuracy:  0.7391304347826086\n",
            "Recall:  0.6808510638297872\n",
            "92\n",
            "Confusion Matrix\n",
            "[[36  9]\n",
            " [15 32]]\n",
            "Epoch Done\n",
            "Accuracy:  0.7717391304347826\n",
            "Recall:  0.7021276595744681\n",
            "92\n",
            "Confusion Matrix\n",
            "[[38  7]\n",
            " [14 33]]\n",
            "Epoch Done\n",
            "Accuracy:  0.7391304347826086\n",
            "Recall:  0.6382978723404256\n",
            "92\n",
            "Confusion Matrix\n",
            "[[38  7]\n",
            " [17 30]]\n",
            "Epoch Done\n",
            "Accuracy:  0.717391304347826\n",
            "Recall:  0.6595744680851063\n",
            "92\n",
            "Confusion Matrix\n",
            "[[35 10]\n",
            " [16 31]]\n",
            "Epoch Done\n",
            "Accuracy:  0.6739130434782609\n",
            "Recall:  0.6382978723404256\n",
            "92\n",
            "Confusion Matrix\n",
            "[[32 13]\n",
            " [17 30]]\n",
            "Epoch Done\n",
            "Accuracy:  0.7282608695652174\n",
            "Recall:  0.7021276595744681\n",
            "92\n",
            "Confusion Matrix\n",
            "[[34 11]\n",
            " [14 33]]\n",
            "Epoch Done\n",
            "Accuracy:  0.7065217391304348\n",
            "Recall:  0.7659574468085106\n",
            "92\n",
            "Confusion Matrix\n",
            "[[29 16]\n",
            " [11 36]]\n",
            "Epoch Done\n",
            "Accuracy:  0.717391304347826\n",
            "Recall:  0.7446808510638298\n",
            "92\n",
            "Confusion Matrix\n",
            "[[31 14]\n",
            " [12 35]]\n",
            "Epoch Done\n",
            "Accuracy:  0.7608695652173914\n",
            "Recall:  0.8723404255319149\n",
            "92\n",
            "Confusion Matrix\n",
            "[[29 16]\n",
            " [ 6 41]]\n",
            "Epoch Done\n",
            "Accuracy:  0.7717391304347826\n",
            "Recall:  0.9148936170212766\n",
            "92\n",
            "Confusion Matrix\n",
            "[[28 17]\n",
            " [ 4 43]]\n",
            "Epoch Done\n",
            "Accuracy:  0.782608695652174\n",
            "Recall:  0.9574468085106383\n",
            "92\n",
            "Confusion Matrix\n",
            "[[27 18]\n",
            " [ 2 45]]\n",
            "Epoch Done\n",
            "Accuracy:  0.7608695652173914\n",
            "Recall:  0.9148936170212766\n",
            "92\n",
            "Confusion Matrix\n",
            "[[27 18]\n",
            " [ 4 43]]\n",
            "Epoch Done\n",
            "Accuracy:  0.782608695652174\n",
            "Recall:  0.9148936170212766\n",
            "92\n",
            "Confusion Matrix\n",
            "[[29 16]\n",
            " [ 4 43]]\n",
            "Epoch Done\n",
            "Accuracy:  0.782608695652174\n",
            "Recall:  0.9148936170212766\n",
            "92\n",
            "Confusion Matrix\n",
            "[[29 16]\n",
            " [ 4 43]]\n",
            "Epoch Done\n",
            "Accuracy:  0.7717391304347826\n",
            "Recall:  0.8936170212765957\n",
            "92\n",
            "Confusion Matrix\n",
            "[[29 16]\n",
            " [ 5 42]]\n",
            "Epoch Done\n",
            "Accuracy:  0.7608695652173914\n",
            "Recall:  0.8723404255319149\n",
            "92\n",
            "Confusion Matrix\n",
            "[[29 16]\n",
            " [ 6 41]]\n",
            "Epoch Done\n",
            "Accuracy:  0.8043478260869565\n",
            "Recall:  0.8936170212765957\n",
            "92\n",
            "Confusion Matrix\n",
            "[[32 13]\n",
            " [ 5 42]]\n",
            "Epoch Done\n",
            "Accuracy:  0.7934782608695652\n",
            "Recall:  0.8723404255319149\n",
            "92\n",
            "Confusion Matrix\n",
            "[[32 13]\n",
            " [ 6 41]]\n",
            "Epoch Done\n",
            "Accuracy:  0.8260869565217391\n",
            "Recall:  0.8723404255319149\n",
            "92\n",
            "Confusion Matrix\n",
            "[[35 10]\n",
            " [ 6 41]]\n",
            "Epoch Done\n",
            "Accuracy:  0.8369565217391305\n",
            "Recall:  0.7659574468085106\n",
            "92\n",
            "Confusion Matrix\n",
            "[[41  4]\n",
            " [11 36]]\n",
            "Epoch Done\n",
            "Accuracy:  0.8913043478260869\n",
            "Recall:  0.8723404255319149\n",
            "92\n",
            "Confusion Matrix\n",
            "[[41  4]\n",
            " [ 6 41]]\n",
            "Epoch Done\n",
            "Accuracy:  0.8586956521739131\n",
            "Recall:  0.9148936170212766\n",
            "92\n",
            "Confusion Matrix\n",
            "[[36  9]\n",
            " [ 4 43]]\n",
            "Epoch Done\n",
            "Accuracy:  0.8804347826086957\n",
            "Recall:  0.8936170212765957\n",
            "92\n",
            "Confusion Matrix\n",
            "[[39  6]\n",
            " [ 5 42]]\n",
            "Epoch Done\n",
            "Accuracy:  0.8695652173913043\n",
            "Recall:  0.8936170212765957\n",
            "92\n",
            "Confusion Matrix\n",
            "[[38  7]\n",
            " [ 5 42]]\n",
            "Epoch Done\n",
            "Accuracy:  0.8804347826086957\n",
            "Recall:  0.8936170212765957\n",
            "92\n",
            "Confusion Matrix\n",
            "[[39  6]\n",
            " [ 5 42]]\n",
            "Epoch Done\n",
            "Accuracy:  0.8804347826086957\n",
            "Recall:  0.9148936170212766\n",
            "92\n",
            "Confusion Matrix\n",
            "[[38  7]\n",
            " [ 4 43]]\n",
            "Epoch Done\n",
            "Accuracy:  0.8804347826086957\n",
            "Recall:  0.8936170212765957\n",
            "92\n",
            "Confusion Matrix\n",
            "[[39  6]\n",
            " [ 5 42]]\n",
            "Epoch Done\n",
            "Accuracy:  0.8913043478260869\n",
            "Recall:  0.8936170212765957\n",
            "92\n",
            "Confusion Matrix\n",
            "[[40  5]\n",
            " [ 5 42]]\n",
            "Epoch Done\n",
            "Accuracy:  0.8804347826086957\n",
            "Recall:  0.8936170212765957\n",
            "92\n",
            "Confusion Matrix\n",
            "[[39  6]\n",
            " [ 5 42]]\n",
            "Epoch Done\n",
            "Accuracy:  0.8913043478260869\n",
            "Recall:  0.9148936170212766\n",
            "92\n",
            "Confusion Matrix\n",
            "[[39  6]\n",
            " [ 4 43]]\n",
            "Epoch Done\n",
            "Accuracy:  0.8695652173913043\n",
            "Recall:  0.9361702127659575\n",
            "92\n",
            "Confusion Matrix\n",
            "[[36  9]\n",
            " [ 3 44]]\n",
            "Epoch Done\n",
            "Accuracy:  0.8804347826086957\n",
            "Recall:  0.8723404255319149\n",
            "92\n",
            "Confusion Matrix\n",
            "[[40  5]\n",
            " [ 6 41]]\n",
            "Epoch Done\n",
            "Accuracy:  0.8804347826086957\n",
            "Recall:  0.851063829787234\n",
            "92\n",
            "Confusion Matrix\n",
            "[[41  4]\n",
            " [ 7 40]]\n",
            "Epoch Done\n",
            "Accuracy:  0.8913043478260869\n",
            "Recall:  0.8723404255319149\n",
            "92\n",
            "Confusion Matrix\n",
            "[[41  4]\n",
            " [ 6 41]]\n",
            "Epoch Done\n",
            "Accuracy:  0.9130434782608695\n",
            "Recall:  0.8936170212765957\n",
            "92\n",
            "Confusion Matrix\n",
            "[[42  3]\n",
            " [ 5 42]]\n",
            "Epoch Done\n",
            "Accuracy:  0.8804347826086957\n",
            "Recall:  0.851063829787234\n",
            "92\n",
            "Confusion Matrix\n",
            "[[41  4]\n",
            " [ 7 40]]\n",
            "Epoch Done\n",
            "Accuracy:  0.8913043478260869\n",
            "Recall:  0.8723404255319149\n",
            "92\n",
            "Confusion Matrix\n",
            "[[41  4]\n",
            " [ 6 41]]\n",
            "Epoch Done\n",
            "Accuracy:  0.8913043478260869\n",
            "Recall:  0.8723404255319149\n",
            "92\n",
            "Confusion Matrix\n",
            "[[41  4]\n",
            " [ 6 41]]\n",
            "Epoch Done\n",
            "Accuracy:  0.8913043478260869\n",
            "Recall:  0.851063829787234\n",
            "92\n",
            "Confusion Matrix\n",
            "[[42  3]\n",
            " [ 7 40]]\n",
            "Epoch Done\n",
            "Accuracy:  0.9021739130434783\n",
            "Recall:  0.8723404255319149\n",
            "92\n",
            "Confusion Matrix\n",
            "[[42  3]\n",
            " [ 6 41]]\n",
            "Epoch Done\n",
            "Accuracy:  0.9021739130434783\n",
            "Recall:  0.8723404255319149\n",
            "92\n",
            "Confusion Matrix\n",
            "[[42  3]\n",
            " [ 6 41]]\n"
          ]
        }
      ]
    },
    {
      "cell_type": "code",
      "source": [
        "\n",
        "labels = []\n",
        "preds = []\n",
        "loss = []\n",
        "model.eval()\n",
        "\n",
        "for seq, label in valid_dataloader:\n",
        "\n",
        "    seq = seq.reshape((-1, 6))\n",
        "    tag_scores = model(seq.to(torch.float))\n",
        "    preds.append(tag_scores.data)\n",
        "    labels.append(label.to(torch.float).data)\n",
        "\n",
        "print(\"Epoch Done\")\n",
        "get_statistics(labels, preds)"
      ],
      "metadata": {
        "colab": {
          "base_uri": "https://localhost:8080/"
        },
        "id": "XJOqgeqwxBZv",
        "outputId": "740f5f83-4860-45e9-acc7-a3689c65fc45"
      },
      "execution_count": 16,
      "outputs": [
        {
          "output_type": "stream",
          "name": "stdout",
          "text": [
            "Epoch Done\n",
            "Accuracy:  0.8846153846153846\n",
            "Recall:  0.9166666666666666\n",
            "26\n",
            "Confusion Matrix\n",
            "[[12  2]\n",
            " [ 1 11]]\n"
          ]
        }
      ]
    },
    {
      "cell_type": "code",
      "source": [
        "torch.save(model.state_dict(), 'model_weights.pt')"
      ],
      "metadata": {
        "id": "6l3lozEEIzPA"
      },
      "execution_count": 17,
      "outputs": []
    },
    {
      "cell_type": "code",
      "source": [
        "from torch import nn\n",
        "import torch.nn.functional as F\n",
        "\n",
        "class FallDetector(nn.Module):\n",
        "    def __init__(self):\n",
        "        super(FallDetector, self).__init__()\n",
        "        self.lstm = nn.LSTM(6, 10, num_layers=1)\n",
        "        self.hidden2tag = nn.Linear(10, 1)\n",
        "\n",
        "    def forward(self, seq):\n",
        "        output, (h_n, c_n) = self.lstm(seq.view(len(seq), 1, -1))\n",
        "        tag_space = self.hidden2tag(c_n.view(1, -1))\n",
        "        # print(tag_space.data)\n",
        "        tag_scores = torch.sigmoid(tag_space) # output changed to 0-1\n",
        "        return tag_scores.view(-1)\n",
        "\n",
        "model = FallDetector()\n",
        "model.load_state_dict(torch.load('model_weights.pt'))\n",
        "model.eval()"
      ],
      "metadata": {
        "id": "8uIuotqbVrXp",
        "colab": {
          "base_uri": "https://localhost:8080/"
        },
        "outputId": "920411df-99a6-45a8-fe90-39664ae309bc"
      },
      "execution_count": 21,
      "outputs": [
        {
          "output_type": "execute_result",
          "data": {
            "text/plain": [
              "FallDetector(\n",
              "  (lstm): LSTM(6, 10)\n",
              "  (hidden2tag): Linear(in_features=10, out_features=1, bias=True)\n",
              ")"
            ]
          },
          "metadata": {},
          "execution_count": 21
        }
      ]
    },
    {
      "cell_type": "code",
      "source": [
        "import tensorflow as tf"
      ],
      "metadata": {
        "id": "LtzwsS2-gtF5"
      },
      "execution_count": 24,
      "outputs": []
    },
    {
      "cell_type": "code",
      "source": [
        "!pip install onnx"
      ],
      "metadata": {
        "colab": {
          "base_uri": "https://localhost:8080/"
        },
        "id": "Uo4HYzmXj2cM",
        "outputId": "996f40e2-8ab5-4115-c0d0-4609f0a52273"
      },
      "execution_count": 28,
      "outputs": [
        {
          "output_type": "stream",
          "name": "stdout",
          "text": [
            "Looking in indexes: https://pypi.org/simple, https://us-python.pkg.dev/colab-wheels/public/simple/\n",
            "Requirement already satisfied: onnx in /usr/local/lib/python3.8/dist-packages (1.13.1)\n",
            "Requirement already satisfied: protobuf<4,>=3.20.2 in /usr/local/lib/python3.8/dist-packages (from onnx) (3.20.3)\n",
            "Requirement already satisfied: numpy>=1.16.6 in /usr/local/lib/python3.8/dist-packages (from onnx) (1.22.4)\n",
            "Requirement already satisfied: typing-extensions>=3.6.2.1 in /usr/local/lib/python3.8/dist-packages (from onnx) (4.5.0)\n"
          ]
        }
      ]
    },
    {
      "cell_type": "code",
      "source": [
        "import onnx"
      ],
      "metadata": {
        "id": "blXwNonfkSiK"
      },
      "execution_count": 30,
      "outputs": []
    },
    {
      "cell_type": "code",
      "source": [
        "!pip install tensorflow-addons"
      ],
      "metadata": {
        "colab": {
          "base_uri": "https://localhost:8080/"
        },
        "id": "YtV9nmSnk1uF",
        "outputId": "75ec78bf-30a1-4dcb-cf4b-04ec5928f81c"
      },
      "execution_count": 34,
      "outputs": [
        {
          "output_type": "stream",
          "name": "stdout",
          "text": [
            "Looking in indexes: https://pypi.org/simple, https://us-python.pkg.dev/colab-wheels/public/simple/\n",
            "Collecting tensorflow-addons\n",
            "  Downloading tensorflow_addons-0.19.0-cp38-cp38-manylinux_2_17_x86_64.manylinux2014_x86_64.whl (1.1 MB)\n",
            "\u001b[2K     \u001b[90m━━━━━━━━━━━━━━━━━━━━━━━━━━━━━━━━━━━━━━━━\u001b[0m \u001b[32m1.1/1.1 MB\u001b[0m \u001b[31m14.5 MB/s\u001b[0m eta \u001b[36m0:00:00\u001b[0m\n",
            "\u001b[?25hRequirement already satisfied: packaging in /usr/local/lib/python3.8/dist-packages (from tensorflow-addons) (23.0)\n",
            "Requirement already satisfied: typeguard>=2.7 in /usr/local/lib/python3.8/dist-packages (from tensorflow-addons) (2.7.1)\n",
            "Installing collected packages: tensorflow-addons\n",
            "Successfully installed tensorflow-addons-0.19.0\n"
          ]
        }
      ]
    },
    {
      "cell_type": "code",
      "source": [
        "!git clone https://github.com/onnx/onnx-tensorflow.git && cd onnx-tensorflow && pip install -e ."
      ],
      "metadata": {
        "colab": {
          "base_uri": "https://localhost:8080/"
        },
        "id": "EwlftyWPrL2J",
        "outputId": "2e13189e-5aca-4ba7-eca8-23d2a6308127"
      },
      "execution_count": 35,
      "outputs": [
        {
          "output_type": "stream",
          "name": "stdout",
          "text": [
            "Cloning into 'onnx-tensorflow'...\n",
            "remote: Enumerating objects: 6516, done.\u001b[K\n",
            "remote: Counting objects: 100% (465/465), done.\u001b[K\n",
            "remote: Compressing objects: 100% (188/188), done.\u001b[K\n",
            "remote: Total 6516 (delta 322), reused 394 (delta 273), pack-reused 6051\u001b[K\n",
            "Receiving objects: 100% (6516/6516), 1.98 MiB | 3.52 MiB/s, done.\n",
            "Resolving deltas: 100% (5047/5047), done.\n",
            "Looking in indexes: https://pypi.org/simple, https://us-python.pkg.dev/colab-wheels/public/simple/\n",
            "Obtaining file:///content/onnx-tensorflow\n",
            "  Preparing metadata (setup.py) ... \u001b[?25l\u001b[?25hdone\n",
            "Requirement already satisfied: onnx>=1.10.2 in /usr/local/lib/python3.8/dist-packages (from onnx-tf==1.10.0) (1.13.1)\n",
            "Requirement already satisfied: PyYAML in /usr/local/lib/python3.8/dist-packages (from onnx-tf==1.10.0) (6.0)\n",
            "Requirement already satisfied: tensorflow_addons in /usr/local/lib/python3.8/dist-packages (from onnx-tf==1.10.0) (0.19.0)\n",
            "Requirement already satisfied: tensorflow_probability in /usr/local/lib/python3.8/dist-packages (from onnx-tf==1.10.0) (0.19.0)\n",
            "Requirement already satisfied: protobuf<4,>=3.20.2 in /usr/local/lib/python3.8/dist-packages (from onnx>=1.10.2->onnx-tf==1.10.0) (3.20.3)\n",
            "Requirement already satisfied: typing-extensions>=3.6.2.1 in /usr/local/lib/python3.8/dist-packages (from onnx>=1.10.2->onnx-tf==1.10.0) (4.5.0)\n",
            "Requirement already satisfied: numpy>=1.16.6 in /usr/local/lib/python3.8/dist-packages (from onnx>=1.10.2->onnx-tf==1.10.0) (1.22.4)\n",
            "Requirement already satisfied: typeguard>=2.7 in /usr/local/lib/python3.8/dist-packages (from tensorflow_addons->onnx-tf==1.10.0) (2.7.1)\n",
            "Requirement already satisfied: packaging in /usr/local/lib/python3.8/dist-packages (from tensorflow_addons->onnx-tf==1.10.0) (23.0)\n",
            "Requirement already satisfied: decorator in /usr/local/lib/python3.8/dist-packages (from tensorflow_probability->onnx-tf==1.10.0) (4.4.2)\n",
            "Requirement already satisfied: cloudpickle>=1.3 in /usr/local/lib/python3.8/dist-packages (from tensorflow_probability->onnx-tf==1.10.0) (2.2.1)\n",
            "Requirement already satisfied: dm-tree in /usr/local/lib/python3.8/dist-packages (from tensorflow_probability->onnx-tf==1.10.0) (0.1.8)\n",
            "Requirement already satisfied: gast>=0.3.2 in /usr/local/lib/python3.8/dist-packages (from tensorflow_probability->onnx-tf==1.10.0) (0.4.0)\n",
            "Requirement already satisfied: absl-py in /usr/local/lib/python3.8/dist-packages (from tensorflow_probability->onnx-tf==1.10.0) (1.4.0)\n",
            "Requirement already satisfied: six>=1.10.0 in /usr/local/lib/python3.8/dist-packages (from tensorflow_probability->onnx-tf==1.10.0) (1.15.0)\n",
            "Installing collected packages: onnx-tf\n",
            "  Running setup.py develop for onnx-tf\n",
            "Successfully installed onnx-tf-1.10.0\n"
          ]
        }
      ]
    },
    {
      "cell_type": "code",
      "source": [
        "!pip install torch-vision"
      ],
      "metadata": {
        "colab": {
          "base_uri": "https://localhost:8080/"
        },
        "id": "GUdxdb7xkbPo",
        "outputId": "b734210a-482e-49b9-d200-7ba35cdee131"
      },
      "execution_count": 2,
      "outputs": [
        {
          "output_type": "stream",
          "name": "stdout",
          "text": [
            "Looking in indexes: https://pypi.org/simple, https://us-python.pkg.dev/colab-wheels/public/simple/\n",
            "Requirement already satisfied: torch-vision in /usr/local/lib/python3.8/dist-packages (0.1.6.dev0)\n"
          ]
        }
      ]
    },
    {
      "cell_type": "code",
      "source": [
        "import torch\n",
        "import torch.nn as nn\n",
        "import torch.nn.functional as F\n",
        "import torch.optim as optim\n",
        "from torch.utils.data import Dataset, IterableDataset\n",
        "import tensorflow as tf\n",
        "\n",
        "import onnx\n",
        "from onnx_tf.backend import prepare"
      ],
      "metadata": {
        "id": "tXW_aedhr70M"
      },
      "execution_count": 4,
      "outputs": []
    },
    {
      "cell_type": "markdown",
      "source": [
        "Load the saved pytorch model and export it as an ONNX file"
      ],
      "metadata": {
        "id": "K1iiB4H_tjyq"
      }
    },
    {
      "cell_type": "code",
      "source": [
        "\n",
        "\n",
        "class FallDetector(nn.Module):\n",
        "    def __init__(self):\n",
        "        super(FallDetector, self).__init__()\n",
        "        self.lstm = nn.LSTM(6, 10, num_layers=1)\n",
        "        self.hidden2tag = nn.Linear(10, 1)\n",
        "\n",
        "    def forward(self, seq):\n",
        "        output, (h_n, c_n) = self.lstm(seq.view(len(seq), 1, -1))\n",
        "        tag_space = self.hidden2tag(c_n.view(1, -1))\n",
        "        # print(tag_space.data)\n",
        "        tag_scores = torch.sigmoid(tag_space) # output changed to 0-1\n",
        "        return tag_scores.view(-1)\n",
        "\n",
        "model = FallDetector()\n",
        "model.load_state_dict(torch.load('model_weights.pt'))\n",
        "model.eval()"
      ],
      "metadata": {
        "colab": {
          "base_uri": "https://localhost:8080/"
        },
        "id": "pekeTftutGDJ",
        "outputId": "c07e2137-7399-4c1f-d96d-01f5fc4a0bc3"
      },
      "execution_count": 5,
      "outputs": [
        {
          "output_type": "execute_result",
          "data": {
            "text/plain": [
              "FallDetector(\n",
              "  (lstm): LSTM(6, 10)\n",
              "  (hidden2tag): Linear(in_features=10, out_features=1, bias=True)\n",
              ")"
            ]
          },
          "metadata": {},
          "execution_count": 5
        }
      ]
    },
    {
      "cell_type": "code",
      "source": [
        "queue = []\n",
        "for i in range(20):\n",
        "  dummy_input = [0] * 6\n",
        "  queue.append(dummy_input)\n",
        "\n",
        "dummy_input = torch.tensor(queue, dtype=torch.float)\n",
        "print(dummy_input.shape)\n",
        "\n",
        "torch.onnx.export(model, dummy_input, \"model.onnx\")"
      ],
      "metadata": {
        "colab": {
          "base_uri": "https://localhost:8080/"
        },
        "id": "xkLEzovfteV0",
        "outputId": "d6ab8c4b-9319-4817-dd96-0cc5ed67a99d"
      },
      "execution_count": 8,
      "outputs": [
        {
          "output_type": "stream",
          "name": "stdout",
          "text": [
            "torch.Size([20, 6])\n"
          ]
        },
        {
          "output_type": "stream",
          "name": "stderr",
          "text": [
            "<ipython-input-5-77ccf8d4e93d>:8: TracerWarning: Using len to get tensor shape might cause the trace to be incorrect. Recommended usage would be tensor.shape[0]. Passing a tensor of different shape might lead to errors or silently give incorrect results.\n",
            "  output, (h_n, c_n) = self.lstm(seq.view(len(seq), 1, -1))\n",
            "/usr/local/lib/python3.8/dist-packages/torch/nn/modules/rnn.py:209: TracerWarning: Converting a tensor to a Python boolean might cause the trace to be incorrect. We can't record the data flow of Python values, so this value will be treated as a constant in the future. This means that the trace might not generalize to other inputs!\n",
            "  if self.input_size != input.size(-1):\n",
            "/usr/local/lib/python3.8/dist-packages/torch/nn/modules/rnn.py:230: TracerWarning: Converting a tensor to a Python boolean might cause the trace to be incorrect. We can't record the data flow of Python values, so this value will be treated as a constant in the future. This means that the trace might not generalize to other inputs!\n",
            "  if hx.size() != expected_hidden_size:\n",
            "/usr/local/lib/python3.8/dist-packages/torch/onnx/symbolic_opset9.py:4315: UserWarning: Exporting a model to ONNX with a batch_size other than 1, with a variable length with LSTM can cause an error when running the ONNX model with a different batch size. Make sure to save the model with a batch size of 1, or define the initial states (h0/c0) as inputs of the model. \n",
            "  warnings.warn(\n",
            "/usr/local/lib/python3.8/dist-packages/torch/onnx/_internal/jit_utils.py:258: UserWarning: The shape inference of prim::Constant type is missing, so it may result in wrong shape inference for the exported graph. Please consider adding it in symbolic function. (Triggered internally at ../torch/csrc/jit/passes/onnx/shape_type_inference.cpp:1884.)\n",
            "  _C._jit_pass_onnx_node_shape_type_inference(node, params_dict, opset_version)\n",
            "/usr/local/lib/python3.8/dist-packages/torch/onnx/utils.py:687: UserWarning: The shape inference of prim::Constant type is missing, so it may result in wrong shape inference for the exported graph. Please consider adding it in symbolic function. (Triggered internally at ../torch/csrc/jit/passes/onnx/shape_type_inference.cpp:1884.)\n",
            "  _C._jit_pass_onnx_graph_shape_type_inference(\n",
            "/usr/local/lib/python3.8/dist-packages/torch/onnx/utils.py:1178: UserWarning: The shape inference of prim::Constant type is missing, so it may result in wrong shape inference for the exported graph. Please consider adding it in symbolic function. (Triggered internally at ../torch/csrc/jit/passes/onnx/shape_type_inference.cpp:1884.)\n",
            "  _C._jit_pass_onnx_graph_shape_type_inference(\n"
          ]
        }
      ]
    },
    {
      "cell_type": "markdown",
      "source": [
        "Load the ONNX file and import it into tensorflow"
      ],
      "metadata": {
        "id": "RAPyetEnxMau"
      }
    },
    {
      "cell_type": "code",
      "source": [
        "# Load the onnx file\n",
        "onnx_model = onnx.load('model.onnx')\n",
        "\n",
        "# Import onnx model to tensorflow\n",
        "tf_rep = prepare(onnx_model)"
      ],
      "metadata": {
        "id": "i4VQFQLZxPys"
      },
      "execution_count": 10,
      "outputs": []
    },
    {
      "cell_type": "markdown",
      "source": [
        "Run and Test Tensorflow model"
      ],
      "metadata": {
        "id": "7W2P8mBsyJC2"
      }
    },
    {
      "cell_type": "code",
      "source": [
        "queue = []\n",
        "for i in range(20):\n",
        "  dummy_input = [0] * 6\n",
        "  queue.append(dummy_input)\n",
        "\n",
        "dummy_input = torch.tensor(queue, dtype=torch.float)\n",
        "\n",
        "output = tf_rep.run(dummy_input)\n",
        "print(output)"
      ],
      "metadata": {
        "colab": {
          "base_uri": "https://localhost:8080/"
        },
        "id": "6uhtWjE4x97r",
        "outputId": "e92095c6-9735-4b38-9b35-22c6b2c97047"
      },
      "execution_count": 14,
      "outputs": [
        {
          "output_type": "stream",
          "name": "stdout",
          "text": [
            "Outputs(_0=array([0.04108686], dtype=float32))\n"
          ]
        }
      ]
    },
    {
      "cell_type": "code",
      "source": [
        "tf_rep.export_graph('tf_model.pb')"
      ],
      "metadata": {
        "colab": {
          "base_uri": "https://localhost:8080/"
        },
        "id": "yN_rzHpFz4bf",
        "outputId": "b368ed1a-f5c8-47c7-a517-ae627716e0cf"
      },
      "execution_count": 15,
      "outputs": [
        {
          "output_type": "stream",
          "name": "stderr",
          "text": [
            "WARNING:tensorflow:`tf.nn.rnn_cell.MultiRNNCell` is deprecated. This class is equivalent as `tf.keras.layers.StackedRNNCells`, and will be replaced by that in Tensorflow 2.0.\n",
            "/usr/local/lib/python3.8/dist-packages/keras/legacy_tf_layers/base.py:627: UserWarning: `layer.updates` will be removed in a future version. This property should not be used in TensorFlow 2.0, as `updates` are applied automatically.\n",
            "  self.updates, tf.compat.v1.GraphKeys.UPDATE_OPS\n",
            "WARNING:tensorflow:`tf.nn.rnn_cell.MultiRNNCell` is deprecated. This class is equivalent as `tf.keras.layers.StackedRNNCells`, and will be replaced by that in Tensorflow 2.0.\n",
            "/usr/local/lib/python3.8/dist-packages/keras/legacy_tf_layers/base.py:627: UserWarning: `layer.updates` will be removed in a future version. This property should not be used in TensorFlow 2.0, as `updates` are applied automatically.\n",
            "  self.updates, tf.compat.v1.GraphKeys.UPDATE_OPS\n",
            "WARNING:absl:Found untraced functions such as gen_tensor_dict while saving (showing 1 of 1). These functions will not be directly callable after loading.\n"
          ]
        }
      ]
    }
  ]
}